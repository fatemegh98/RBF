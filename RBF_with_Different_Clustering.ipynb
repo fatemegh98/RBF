{
  "nbformat": 4,
  "nbformat_minor": 0,
  "metadata": {
    "colab": {
      "provenance": []
    },
    "kernelspec": {
      "name": "python3",
      "display_name": "Python 3"
    },
    "language_info": {
      "name": "python"
    }
  },
  "cells": [
    {
      "cell_type": "code",
      "source": [
        "import random\n",
        "import numpy as np\n",
        "import math"
      ],
      "metadata": {
        "id": "gTvbakI8hIEr"
      },
      "execution_count": null,
      "outputs": []
    },
    {
      "cell_type": "code",
      "source": [
        "from scipy import *\n",
        "from scipy.linalg import norm, pinv\n",
        "\n",
        "from matplotlib import pyplot as plt\n",
        ""
      ],
      "metadata": {
        "id": "I39qyd3jlnIM"
      },
      "execution_count": null,
      "outputs": []
    },
    {
      "cell_type": "code",
      "source": [
        "class RBF:\n",
        "\n",
        "    def __init__(self, indim, numCenters, outdim):\n",
        "        self.indim = indim\n",
        "        self.outdim = outdim\n",
        "        self.numCenters = numCenters\n",
        "        self.centers = [random.uniform(-1, 1, indim) for i in range(numCenters)]\n",
        "        self.beta = 8\n",
        "        self.W = random.random((self.numCenters, self.outdim))\n",
        "\n",
        "    def _basisfunc(self, c, d):\n",
        "        assert len(d) == self.indim\n",
        "        return math.exp(-self.beta * norm(c-d)**2)\n",
        "\n",
        "    def _calcAct(self, X):\n",
        "        # calculate activations of RBFs\n",
        "        G = np.zeros((X.shape[0], self.numCenters), float)\n",
        "        for ci, c in enumerate(self.centers):\n",
        "            for xi, x in enumerate(X):\n",
        "                G[xi,ci] = self._basisfunc(c, x)\n",
        "        return G\n",
        "\n",
        "    def train(self, X, Y):\n",
        "        \"\"\" X: matrix of dimensions n x indim\n",
        "            y: column vector of dimension n x 1 \"\"\"\n",
        "        print(type(x))\n",
        "        # choose random center vectors from training set\n",
        "        rnd_idx = random.permutation(X.shape[0])[:self.numCenters]\n",
        "        self.centers = [X[i,:] for i in rnd_idx]\n",
        "        print(\"***\")\n",
        "        print(\"center\", self.centers)\n",
        "        # calculate activations of RBFs\n",
        "        G = self._calcAct(X)\n",
        "        print(G)\n",
        "\n",
        "        # calculate output weights (pseudoinverse)\n",
        "        self.W = np.dot(pinv(G), Y)\n",
        "\n",
        "    def test(self, X):\n",
        "        \"\"\" X: matrix of dimensions n x indim \"\"\"\n",
        "\n",
        "        G = self._calcAct(X)\n",
        "        Y = np.dot(G, self.W)\n",
        "        return Y"
      ],
      "metadata": {
        "id": "vSH2Pashk4vt"
      },
      "execution_count": null,
      "outputs": []
    },
    {
      "cell_type": "code",
      "source": [
        "n = 365\n",
        "\n",
        "x = mgrid[0:2:complex(0,n)].reshape(n, 1)\n",
        "L = mgrid[-0.8:0.8:complex(0,n)].reshape(n, 1)\n",
        "y = -1+(2/3)*sin(3*(x) + pi)+L\n",
        "\n",
        "\n",
        "rbf = RBF(1, 10, 1)\n",
        "rbf.train(x, y)\n",
        "z = rbf.test(x)\n",
        "\n",
        "plt.figure(figsize=(12, 8))\n",
        "plt.plot(x, y, 'k-')\n",
        "\n",
        "\n",
        "plt.plot(x, z, 'r-', linewidth=2)\n",
        "\n",
        "\n",
        "plt.plot(rbf.centers, zeros(rbf.numCenters), 'gs')\n",
        "\n",
        "# for c in rbf.centers:\n",
        "\n",
        "#   cx = arange(c-0.7, c+0.7, 0.01)\n",
        "#   cy = [rbf._basisfunc(array([cx_]), array([c])) for cx_ in cx]\n",
        "#   plt.plot(cx, cy, '-', color='gray', linewidth=0.2)\n",
        "\n",
        "#   plt.xlim(-1.2, 1.2)\n",
        "#   plt.show()"
      ],
      "metadata": {
        "colab": {
          "base_uri": "https://localhost:8080/",
          "height": 850
        },
        "id": "Ki4Bx2SnmMRA",
        "outputId": "832c3dc3-aed8-416c-d922-247bde719fe4"
      },
      "execution_count": null,
      "outputs": [
        {
          "output_type": "stream",
          "name": "stdout",
          "text": [
            "<class 'numpy.ndarray'>\n",
            "***\n",
            "center [array([0.53846154]), array([1.3021978]), array([1.71428571]), array([0.8021978]), array([1.93406593]), array([0.57142857]), array([1.80769231]), array([0.37362637]), array([1.16483516]), array([1.52197802])]\n",
            "[[9.83201167e-02 1.28371424e-06 6.16095588e-11 ... 3.27334290e-01\n",
            "  1.93130854e-05 8.95246615e-09]\n",
            " [1.03061347e-01 1.43906708e-06 7.16133819e-11 ... 3.38182841e-01\n",
            "  2.13904475e-05 1.02316698e-08]\n",
            " [1.07979041e-01 1.61244138e-06 8.32013722e-11 ... 3.49222210e-01\n",
            "  2.36798147e-05 1.16880097e-08]\n",
            " ...\n",
            " [4.89361393e-08 2.29669552e-02 5.46734586e-01 ... 8.58581382e-10\n",
            "  4.36504704e-03 1.74652265e-01]\n",
            " [4.30668613e-08 2.16160426e-02 5.33559332e-01 ... 7.44734754e-10\n",
            "  4.05898293e-03 1.67586156e-01]\n",
            " [3.78832265e-08 2.03347658e-02 5.20450121e-01 ... 6.45672065e-10\n",
            "  3.77255641e-03 1.60728272e-01]]\n"
          ]
        },
        {
          "output_type": "stream",
          "name": "stderr",
          "text": [
            "/usr/local/lib/python3.7/dist-packages/ipykernel_launcher.py:5: DeprecationWarning: scipy.sin is deprecated and will be removed in SciPy 2.0.0, use numpy.sin instead\n",
            "  \"\"\"\n",
            "/usr/local/lib/python3.7/dist-packages/ipykernel_launcher.py:19: DeprecationWarning: scipy.zeros is deprecated and will be removed in SciPy 2.0.0, use numpy.zeros instead\n"
          ]
        },
        {
          "output_type": "execute_result",
          "data": {
            "text/plain": [
              "[<matplotlib.lines.Line2D at 0x7fed898f4250>]"
            ]
          },
          "metadata": {},
          "execution_count": 4
        },
        {
          "output_type": "display_data",
          "data": {
            "text/plain": [
              "<Figure size 864x576 with 1 Axes>"
            ],
            "image/png": "[encoded data removed]"
          },
          "metadata": {
            "needs_background": "light"
          }
        }
      ]
    },
    {
      "cell_type": "code",
      "source": [
        "from sklearn.cluster import KMeans"
      ],
      "metadata": {
        "id": "_Wz_9DZarW-4"
      },
      "execution_count": null,
      "outputs": []
    },
    {
      "cell_type": "code",
      "source": [
        "class RBFwithKmeans:\n",
        "\n",
        "    def __init__(self, indim, numCenters, outdim):\n",
        "        self.indim = indim\n",
        "        self.outdim = outdim\n",
        "        self.numCenters = numCenters\n",
        "        self.centers = [random.uniform(-1, 1, indim) for i in range(numCenters)]\n",
        "        print(self.centers)\n",
        "        self.beta = 8\n",
        "        self.W = random.random((self.numCenters, self.outdim))\n",
        "\n",
        "    def _basisfunc(self, c, d):\n",
        "        assert len(d) == self.indim\n",
        "        return math.exp(-self.beta * norm(c-d)**2)\n",
        "\n",
        "    def _calcAct(self, X):\n",
        "        # calculate activations of RBFs\n",
        "        G = np.zeros((X.shape[0], self.numCenters), float)\n",
        "        for ci, c in enumerate(self.centers):\n",
        "            for xi, x in enumerate(X):\n",
        "                G[xi,ci] = self._basisfunc(c, x)\n",
        "        return G\n",
        "\n",
        "    def train(self, X, Y):\n",
        "        \"\"\" X: matrix of dimensions n x indim\n",
        "            y: column vector of dimension n x 1 \"\"\"\n",
        "        # choose center vectors using Kmeans\n",
        "        kmeans = KMeans(n_clusters=self.numCenters, random_state=0).fit(X)\n",
        "        # rnd_idx = random.permutation(X.shape[0])[:self.numCenters]\n",
        "        # self.centers = [X[i,:] for i in rnd_idx]\n",
        "        self.centers = kmeans.cluster_centers_\n",
        "        # print(\"***\")\n",
        "        print(\"center\", self.centers)\n",
        "        # calculate activations of RBFs\n",
        "        G = self._calcAct(X)\n",
        "        # print(G)\n",
        "\n",
        "        # calculate output weights (pseudoinverse)\n",
        "        self.W = np.dot(pinv(G), Y)\n",
        "\n",
        "    def test(self, X):\n",
        "        \"\"\" X: matrix of dimensions n x indim \"\"\"\n",
        "\n",
        "        G = self._calcAct(X)\n",
        "        Y = np.dot(G, self.W)\n",
        "        return Y"
      ],
      "metadata": {
        "id": "f2nySThm7eLP"
      },
      "execution_count": null,
      "outputs": []
    },
    {
      "cell_type": "code",
      "source": [
        "n = 365\n",
        "\n",
        "x = mgrid[0:2:complex(0,n)].reshape(n, 1)\n",
        "L = mgrid[-0.8:0.8:complex(0,n)].reshape(n, 1)\n",
        "y = -1+(2/3)*sin(3*(x) + pi)+L\n",
        "\n",
        "\n",
        "rbf = RBFwithKmeans(1, 10, 1)\n",
        "rbf.train(x, y)\n",
        "z = rbf.test(x)\n",
        "\n",
        "plt.figure(figsize=(12, 8))\n",
        "plt.plot(x, y, 'k-')\n",
        "\n",
        "\n",
        "plt.plot(x, z, 'r-', linewidth=2)\n",
        "\n",
        "\n",
        "plt.plot(rbf.centers, zeros(rbf.numCenters), 'gs')\n",
        "\n",
        "# for c in rbf.centers:\n",
        "\n",
        "#   cx = arange(c-0.7, c+0.7, 0.01)\n",
        "#   cy = [rbf._basisfunc(array([cx_]), array([c])) for cx_ in cx]\n",
        "#   plt.plot(cx, cy, '-', color='gray', linewidth=0.2)\n",
        "\n",
        "#   plt.xlim(-1.2, 1.2)\n",
        "#   plt.show()"
      ],
      "metadata": {
        "colab": {
          "base_uri": "https://localhost:8080/",
          "height": 763
        },
        "id": "JhfR2wfy8RIN",
        "outputId": "911debe9-b855-4ec2-8ce7-4043c5294998"
      },
      "execution_count": null,
      "outputs": [
        {
          "output_type": "stream",
          "name": "stdout",
          "text": [
            "[array([-0.38341185]), array([0.10850286]), array([-0.40034047]), array([-0.9471419]), array([-0.42864392]), array([-0.69544289]), array([0.41617561]), array([-0.27622895]), array([-0.28362368]), array([0.54827838])]\n",
            "center [[0.68406593]\n",
            " [1.33241758]\n",
            " [1.72527473]\n",
            " [0.09065934]\n",
            " [0.89835165]\n",
            " [0.28021978]\n",
            " [1.53296703]\n",
            " [1.11813187]\n",
            " [0.47802198]\n",
            " [1.91208791]]\n"
          ]
        },
        {
          "output_type": "stream",
          "name": "stderr",
          "text": [
            "/usr/local/lib/python3.7/dist-packages/ipykernel_launcher.py:5: DeprecationWarning: scipy.sin is deprecated and will be removed in SciPy 2.0.0, use numpy.sin instead\n",
            "  \"\"\"\n",
            "/usr/local/lib/python3.7/dist-packages/ipykernel_launcher.py:19: DeprecationWarning: scipy.zeros is deprecated and will be removed in SciPy 2.0.0, use numpy.zeros instead\n"
          ]
        },
        {
          "output_type": "execute_result",
          "data": {
            "text/plain": [
              "[<matplotlib.lines.Line2D at 0x7fed75238590>]"
            ]
          },
          "metadata": {},
          "execution_count": 21
        },
        {
          "output_type": "display_data",
          "data": {
            "text/plain": [
              "<Figure size 864x576 with 1 Axes>"
            ],
            "image/png": "[encoded data removed]"
          },
          "metadata": {
            "needs_background": "light"
          }
        }
      ]
    },
    {
      "cell_type": "code",
      "source": [
        "from sklearn.mixture import GaussianMixture"
      ],
      "metadata": {
        "id": "4Zv3ux0X8Usc"
      },
      "execution_count": null,
      "outputs": []
    },
    {
      "cell_type": "code",
      "source": [
        "class RBFwithGMM:\n",
        "\n",
        "    def __init__(self, indim, numCenters, outdim):\n",
        "        self.indim = indim\n",
        "        self.outdim = outdim\n",
        "        self.numCenters = numCenters\n",
        "        self.centers = [random.uniform(-1, 1, indim) for i in range(numCenters)]\n",
        "        print(self.centers)\n",
        "        self.beta = 8\n",
        "        self.W = random.random((self.numCenters, self.outdim))\n",
        "\n",
        "    def _basisfunc(self, c, d):\n",
        "        assert len(d) == self.indim\n",
        "        return math.exp(-self.beta * norm(c-d)**2)\n",
        "\n",
        "    def _calcAct(self, X):\n",
        "        # calculate activations of RBFs\n",
        "        G = np.zeros((X.shape[0], self.numCenters), float)\n",
        "        for ci, c in enumerate(self.centers):\n",
        "            for xi, x in enumerate(X):\n",
        "                G[xi,ci] = self._basisfunc(c, x)\n",
        "        return G\n",
        "\n",
        "    def train(self, X, Y):\n",
        "        \"\"\" X: matrix of dimensions n x indim\n",
        "            y: column vector of dimension n x 1 \"\"\"\n",
        "        # choose random center vectors from training set\n",
        "        # kmeans = KMeans(n_clusters=self.numCenters, random_state=0).fit(X)\n",
        "        # rnd_idx = random.permutation(X.shape[0])[:self.numCenters]\n",
        "        # self.centers = [X[i,:] for i in rnd_idx]\n",
        "        # self.centers = kmeans.cluster_centers_\n",
        "\n",
        "        gmm = GaussianMixture(n_components=self.numCenters).fit(X)\n",
        "        self.centers = gmm.means_\n",
        "        # print(\"***\")\n",
        "        print(\"center\", self.centers)\n",
        "        # calculate activations of RBFs\n",
        "        G = self._calcAct(X)\n",
        "        # print(G)\n",
        "\n",
        "        # calculate output weights (pseudoinverse)\n",
        "        self.W = np.dot(pinv(G), Y)\n",
        "\n",
        "    def test(self, X):\n",
        "        \"\"\" X: matrix of dimensions n x indim \"\"\"\n",
        "\n",
        "        G = self._calcAct(X)\n",
        "        Y = np.dot(G, self.W)\n",
        "        return Y"
      ],
      "metadata": {
        "id": "dp4O6AIC-jJh"
      },
      "execution_count": null,
      "outputs": []
    },
    {
      "cell_type": "code",
      "source": [
        "n = 365\n",
        "\n",
        "x = mgrid[0:2:complex(0,n)].reshape(n, 1)\n",
        "L = mgrid[-0.8:0.8:complex(0,n)].reshape(n, 1)\n",
        "y = -1+(2/3)*sin(3*(x) + pi)+L\n",
        "\n",
        "\n",
        "rbf = RBFwithGMM(1, 10, 1)\n",
        "rbf.train(x, y)\n",
        "z = rbf.test(x)\n",
        "\n",
        "plt.figure(figsize=(12, 8))\n",
        "plt.plot(x, y, 'k-')\n",
        "\n",
        "\n",
        "plt.plot(x, z, 'r-', linewidth=2)\n",
        "\n",
        "\n",
        "plt.plot(rbf.centers, zeros(rbf.numCenters), 'gs')\n",
        "\n",
        "# for c in rbf.centers:\n",
        "\n",
        "#   cx = arange(c-0.7, c+0.7, 0.01)\n",
        "#   cy = [rbf._basisfunc(array([cx_]), array([c])) for cx_ in cx]\n",
        "#   plt.plot(cx, cy, '-', color='gray', linewidth=0.2)\n",
        "\n",
        "#   plt.xlim(-1.2, 1.2)\n",
        "#   plt.show()"
      ],
      "metadata": {
        "colab": {
          "base_uri": "https://localhost:8080/",
          "height": 763
        },
        "id": "bUZL24Ce_btS",
        "outputId": "1afc1a7e-5821-4521-9d8c-584ae47e7ea0"
      },
      "execution_count": null,
      "outputs": [
        {
          "output_type": "stream",
          "name": "stdout",
          "text": [
            "[array([-0.84950833]), array([0.16914561]), array([0.86644168]), array([0.0533541]), array([-0.09264107]), array([-0.1165978]), array([-0.29754299]), array([-0.04989762]), array([0.16107253]), array([-0.05740532])]\n",
            "center [[1.44519249]\n",
            " [0.59890994]\n",
            " [1.67265338]\n",
            " [0.23998827]\n",
            " [1.00548241]\n",
            " [1.22252974]\n",
            " [1.89087042]\n",
            " [0.79669973]\n",
            " [0.07843405]\n",
            " [0.41476789]]\n"
          ]
        },
        {
          "output_type": "stream",
          "name": "stderr",
          "text": [
            "/usr/local/lib/python3.7/dist-packages/ipykernel_launcher.py:5: DeprecationWarning: scipy.sin is deprecated and will be removed in SciPy 2.0.0, use numpy.sin instead\n",
            "  \"\"\"\n",
            "/usr/local/lib/python3.7/dist-packages/ipykernel_launcher.py:19: DeprecationWarning: scipy.zeros is deprecated and will be removed in SciPy 2.0.0, use numpy.zeros instead\n"
          ]
        },
        {
          "output_type": "execute_result",
          "data": {
            "text/plain": [
              "[<matplotlib.lines.Line2D at 0x7f95fbaf1f50>]"
            ]
          },
          "metadata": {},
          "execution_count": 6
        },
        {
          "output_type": "display_data",
          "data": {
            "text/plain": [
              "<Figure size 864x576 with 1 Axes>"
            ],
            "image/png": "[encoded data removed]"
          },
          "metadata": {
            "needs_background": "light"
          }
        }
      ]
    },
    {
      "cell_type": "code",
      "source": [],
      "metadata": {
        "id": "1bLhOTCe_dPt"
      },
      "execution_count": null,
      "outputs": []
    }
  ]
}